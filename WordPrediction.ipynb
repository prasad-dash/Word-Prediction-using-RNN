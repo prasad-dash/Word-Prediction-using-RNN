{
  "nbformat": 4,
  "nbformat_minor": 0,
  "metadata": {
    "colab": {
      "name": "WordPrediction",
      "provenance": [],
      "collapsed_sections": [],
      "authorship_tag": "ABX9TyNKcN0E99do7dZU417omXV8",
      "include_colab_link": true
    },
    "kernelspec": {
      "name": "python3",
      "display_name": "Python 3"
    },
    "accelerator": "GPU"
  },
  "cells": [
    {
      "cell_type": "markdown",
      "metadata": {
        "id": "view-in-github",
        "colab_type": "text"
      },
      "source": [
        "<a href=\"https://colab.research.google.com/github/prasad-dash/Word-Prediction-using-RNN/blob/main/WordPrediction.ipynb\" target=\"_parent\"><img src=\"https://colab.research.google.com/assets/colab-badge.svg\" alt=\"Open In Colab\"/></a>"
      ]
    },
    {
      "cell_type": "code",
      "metadata": {
        "id": "UKtvyAyASaf_"
      },
      "source": [
        "import numpy as np\r\n",
        "import pandas as pd\r\n",
        "import tensorflow as tf\r\n",
        "import matplotlib.pyplot as plt\r\n"
      ],
      "execution_count": null,
      "outputs": []
    },
    {
      "cell_type": "code",
      "metadata": {
        "colab": {
          "base_uri": "https://localhost:8080/"
        },
        "id": "dg_tnu9qTGY_",
        "outputId": "4b26ec1b-80cb-4090-b693-5e42e01e65a2"
      },
      "source": [
        "!wget  https://www.gutenberg.org/files/64771/64771-0.txt -O dataO.txt\r\n"
      ],
      "execution_count": null,
      "outputs": [
        {
          "output_type": "stream",
          "text": [
            "--2021-03-11 08:41:48--  https://www.gutenberg.org/files/64771/64771-0.txt\n",
            "Resolving www.gutenberg.org (www.gutenberg.org)... 152.19.134.47, 2610:28:3090:3000:0:bad:cafe:47\n",
            "Connecting to www.gutenberg.org (www.gutenberg.org)|152.19.134.47|:443... connected.\n",
            "HTTP request sent, awaiting response... 200 OK\n",
            "Length: 138000 (135K) [text/plain]\n",
            "Saving to: ‘dataO.txt’\n",
            "\n",
            "dataO.txt           100%[===================>] 134.77K   104KB/s    in 1.3s    \n",
            "\n",
            "2021-03-11 08:41:51 (104 KB/s) - ‘dataO.txt’ saved [138000/138000]\n",
            "\n"
          ],
          "name": "stdout"
        }
      ]
    },
    {
      "cell_type": "code",
      "metadata": {
        "id": "Baq8fzF3kwbe"
      },
      "source": [
        "file=open(\"/content/data_mod.txt\",\"r\",encoding=\"utf-8\")"
      ],
      "execution_count": null,
      "outputs": []
    },
    {
      "cell_type": "code",
      "metadata": {
        "id": "BrsMAsdwloUF"
      },
      "source": [
        "sentences=[]\r\n",
        "for sentence in file:\r\n",
        "  sentences.append(sentence)"
      ],
      "execution_count": null,
      "outputs": []
    },
    {
      "cell_type": "code",
      "metadata": {
        "id": "Eg2RRD0FPSsT"
      },
      "source": [
        "data = \"\"\r\n",
        "\r\n",
        "for i in sentences:\r\n",
        "    data = ' '. join(sentences)\r\n",
        "    \r\n",
        "list_lines=[]\r\n",
        "list_lines=data.split(\".\")\r\n",
        "list_lines=[sentence+\" .\" for sentence in list_lines]\r\n",
        "list_lines=[sentence.replace('\\n','') for sentence in list_lines]\r\n",
        "final_list=\"\".join(list_lines)\r\n"
      ],
      "execution_count": null,
      "outputs": []
    },
    {
      "cell_type": "code",
      "metadata": {
        "id": "QeOLDJv_RLtf"
      },
      "source": [
        "tokeniser=tf.keras.preprocessing.text.Tokenizer()\r\n",
        "tokeniser.fit_on_texts([final_list])\r\n",
        "token_list=tokeniser.texts_to_sequences([final_list])[0]\r\n",
        "vocab_size=len(tokeniser.word_index)+1"
      ],
      "execution_count": null,
      "outputs": []
    },
    {
      "cell_type": "code",
      "metadata": {
        "colab": {
          "base_uri": "https://localhost:8080/"
        },
        "id": "QPKEpPNgUx0F",
        "outputId": "c3f86b6b-f76f-4753-a2cd-9933e628e5e9"
      },
      "source": [
        "X=[]\r\n",
        "Y=[]\r\n",
        "for i in range(8,len(token_list)):\r\n",
        "  x=token_list[i-8:i]\r\n",
        "  X.append(x)\r\n",
        "  Y.append(token_list[i])\r\n",
        "X_train=X[0:int(4*len(X)/5)]\r\n",
        "X_test=X[int(4*len(X)/5):]\r\n",
        "Y_train=Y[0:int(4*len(X)/5)]\r\n",
        "Y_test=Y[int(4*len(X)/5):]\r\n",
        "X_train=np.array(X_train)\r\n",
        "X_test=np.array(X_test)\r\n",
        "Y_train=np.array(Y_train)\r\n",
        "Y_test=np.array(Y_test)\r\n",
        "print(len(X))\r\n",
        "Y_train=tf.keras.utils.to_categorical(Y_train,vocab_size)\r\n",
        "Y_test=tf.keras.utils.to_categorical(Y_test,vocab_size)\r\n",
        "#tf.keras.utils.to_categorical()"
      ],
      "execution_count": null,
      "outputs": [
        {
          "output_type": "stream",
          "text": [
            "471\n"
          ],
          "name": "stdout"
        }
      ]
    },
    {
      "cell_type": "code",
      "metadata": {
        "id": "lF1nD_l6aGhw"
      },
      "source": [
        "model=tf.keras.models.Sequential()\r\n",
        "model.add(tf.keras.layers.Embedding(input_dim=vocab_size,output_dim=10,input_length=8))\r\n",
        "model.add(tf.keras.layers.LSTM(1000,return_sequences=True))\r\n",
        "model.add(tf.keras.layers.LSTM(1000))\r\n",
        "model.add(tf.keras.layers.Dense(1000,activation=\"relu\"))\r\n",
        "model.add(tf.keras.layers.Dense(vocab_size,activation=\"softmax\"))\r\n"
      ],
      "execution_count": null,
      "outputs": []
    },
    {
      "cell_type": "code",
      "metadata": {
        "colab": {
          "base_uri": "https://localhost:8080/"
        },
        "id": "8xYR4TASaVC_",
        "outputId": "181af274-91bf-4dd3-f603-e8b0b902f572"
      },
      "source": [
        "model.summary()"
      ],
      "execution_count": null,
      "outputs": [
        {
          "output_type": "stream",
          "text": [
            "Model: \"sequential_2\"\n",
            "_________________________________________________________________\n",
            "Layer (type)                 Output Shape              Param #   \n",
            "=================================================================\n",
            "embedding_2 (Embedding)      (None, 8, 10)             2550      \n",
            "_________________________________________________________________\n",
            "lstm_4 (LSTM)                (None, 8, 1000)           4044000   \n",
            "_________________________________________________________________\n",
            "lstm_5 (LSTM)                (None, 1000)              8004000   \n",
            "_________________________________________________________________\n",
            "dense_4 (Dense)              (None, 1000)              1001000   \n",
            "_________________________________________________________________\n",
            "dense_5 (Dense)              (None, 255)               255255    \n",
            "=================================================================\n",
            "Total params: 13,306,805\n",
            "Trainable params: 13,306,805\n",
            "Non-trainable params: 0\n",
            "_________________________________________________________________\n"
          ],
          "name": "stdout"
        }
      ]
    },
    {
      "cell_type": "code",
      "metadata": {
        "colab": {
          "base_uri": "https://localhost:8080/"
        },
        "id": "TyeJyI5UiSYG",
        "outputId": "ee4412cc-f17c-4fdb-c667-58d71949a949"
      },
      "source": [
        "model.compile(loss=\"categorical_crossentropy\", optimizer=tf.optimizers.Adam(lr=0.001),metrics=\"accuracy\")\r\n",
        "model.fit(X_train, Y_train, epochs=20, batch_size=64,validation_data=(X_test,Y_test))"
      ],
      "execution_count": null,
      "outputs": [
        {
          "output_type": "stream",
          "text": [
            "Epoch 1/20\n",
            "6/6 [==============================] - 3s 158ms/step - loss: 5.5322 - accuracy: 0.0483 - val_loss: 5.3101 - val_accuracy: 0.0632\n",
            "Epoch 2/20\n",
            "6/6 [==============================] - 0s 29ms/step - loss: 5.3480 - accuracy: 0.0752 - val_loss: 5.4444 - val_accuracy: 0.0632\n",
            "Epoch 3/20\n",
            "6/6 [==============================] - 0s 26ms/step - loss: 5.3627 - accuracy: 0.0390 - val_loss: 5.4280 - val_accuracy: 0.0632\n",
            "Epoch 4/20\n",
            "6/6 [==============================] - 0s 25ms/step - loss: 5.1410 - accuracy: 0.0465 - val_loss: 5.5689 - val_accuracy: 0.0632\n",
            "Epoch 5/20\n",
            "6/6 [==============================] - 0s 26ms/step - loss: 5.0370 - accuracy: 0.0524 - val_loss: 5.8309 - val_accuracy: 0.0632\n",
            "Epoch 6/20\n",
            "6/6 [==============================] - 0s 25ms/step - loss: 5.0027 - accuracy: 0.0640 - val_loss: 5.8458 - val_accuracy: 0.0632\n",
            "Epoch 7/20\n",
            "6/6 [==============================] - 0s 25ms/step - loss: 4.9886 - accuracy: 0.0654 - val_loss: 6.2707 - val_accuracy: 0.0632\n",
            "Epoch 8/20\n",
            "6/6 [==============================] - 0s 26ms/step - loss: 4.9041 - accuracy: 0.0834 - val_loss: 5.9807 - val_accuracy: 0.0632\n",
            "Epoch 9/20\n",
            "6/6 [==============================] - 0s 25ms/step - loss: 4.9031 - accuracy: 0.0676 - val_loss: 6.6789 - val_accuracy: 0.0632\n",
            "Epoch 10/20\n",
            "6/6 [==============================] - 0s 25ms/step - loss: 4.7895 - accuracy: 0.0973 - val_loss: 6.2696 - val_accuracy: 0.0632\n",
            "Epoch 11/20\n",
            "6/6 [==============================] - 0s 25ms/step - loss: 4.8465 - accuracy: 0.0625 - val_loss: 7.4410 - val_accuracy: 0.0632\n",
            "Epoch 12/20\n",
            "6/6 [==============================] - 0s 26ms/step - loss: 4.6957 - accuracy: 0.0815 - val_loss: 6.5705 - val_accuracy: 0.0526\n",
            "Epoch 13/20\n",
            "6/6 [==============================] - 0s 25ms/step - loss: 4.6031 - accuracy: 0.0979 - val_loss: 7.1309 - val_accuracy: 0.0632\n",
            "Epoch 14/20\n",
            "6/6 [==============================] - 0s 25ms/step - loss: 4.4927 - accuracy: 0.0905 - val_loss: 7.8469 - val_accuracy: 0.0526\n",
            "Epoch 15/20\n",
            "6/6 [==============================] - 0s 25ms/step - loss: 4.4511 - accuracy: 0.0757 - val_loss: 7.6042 - val_accuracy: 0.0526\n",
            "Epoch 16/20\n",
            "6/6 [==============================] - 0s 24ms/step - loss: 4.3744 - accuracy: 0.0868 - val_loss: 7.6730 - val_accuracy: 0.0526\n",
            "Epoch 17/20\n",
            "6/6 [==============================] - 0s 25ms/step - loss: 4.3797 - accuracy: 0.0553 - val_loss: 9.3159 - val_accuracy: 0.0526\n",
            "Epoch 18/20\n",
            "6/6 [==============================] - 0s 28ms/step - loss: 4.3312 - accuracy: 0.0657 - val_loss: 8.7954 - val_accuracy: 0.0526\n",
            "Epoch 19/20\n",
            "6/6 [==============================] - 0s 26ms/step - loss: 4.3042 - accuracy: 0.0737 - val_loss: 10.1717 - val_accuracy: 0.0526\n",
            "Epoch 20/20\n",
            "6/6 [==============================] - 0s 25ms/step - loss: 4.2053 - accuracy: 0.0929 - val_loss: 9.7746 - val_accuracy: 0.0526\n"
          ],
          "name": "stdout"
        },
        {
          "output_type": "execute_result",
          "data": {
            "text/plain": [
              "<tensorflow.python.keras.callbacks.History at 0x7f3ddaf62850>"
            ]
          },
          "metadata": {
            "tags": []
          },
          "execution_count": 132
        }
      ]
    },
    {
      "cell_type": "code",
      "metadata": {
        "id": "_nBxv8DBibo3",
        "colab": {
          "base_uri": "https://localhost:8080/"
        },
        "outputId": "640df502-5377-462b-8c89-71b588e49868"
      },
      "source": [
        "histoy=model.fit(X_train, Y_train, epochs=20, batch_size=64,validation_data=(X_test,Y_test) )"
      ],
      "execution_count": null,
      "outputs": [
        {
          "output_type": "stream",
          "text": [
            "Epoch 1/20\n",
            "6/6 [==============================] - 0s 34ms/step - loss: 1.0555 - accuracy: 0.6543 - val_loss: 28.9681 - val_accuracy: 0.0316\n",
            "Epoch 2/20\n",
            "6/6 [==============================] - 0s 26ms/step - loss: 0.7755 - accuracy: 0.7473 - val_loss: 28.5575 - val_accuracy: 0.0211\n",
            "Epoch 3/20\n",
            "6/6 [==============================] - 0s 26ms/step - loss: 0.6619 - accuracy: 0.7979 - val_loss: 30.1257 - val_accuracy: 0.0105\n",
            "Epoch 4/20\n",
            "6/6 [==============================] - 0s 25ms/step - loss: 0.5312 - accuracy: 0.8404 - val_loss: 31.5320 - val_accuracy: 0.0316\n",
            "Epoch 5/20\n",
            "6/6 [==============================] - 0s 25ms/step - loss: 0.5223 - accuracy: 0.8298 - val_loss: 33.1411 - val_accuracy: 0.0316\n",
            "Epoch 6/20\n",
            "6/6 [==============================] - 0s 25ms/step - loss: 0.4962 - accuracy: 0.8351 - val_loss: 33.6032 - val_accuracy: 0.0316\n",
            "Epoch 7/20\n",
            "6/6 [==============================] - 0s 24ms/step - loss: 0.4253 - accuracy: 0.8590 - val_loss: 33.4748 - val_accuracy: 0.0421\n",
            "Epoch 8/20\n",
            "6/6 [==============================] - 0s 26ms/step - loss: 0.3505 - accuracy: 0.8803 - val_loss: 32.1984 - val_accuracy: 0.0211\n",
            "Epoch 9/20\n",
            "6/6 [==============================] - 0s 25ms/step - loss: 0.3820 - accuracy: 0.8697 - val_loss: 32.7435 - val_accuracy: 0.0316\n",
            "Epoch 10/20\n",
            "6/6 [==============================] - 0s 25ms/step - loss: 0.3587 - accuracy: 0.8963 - val_loss: 33.9813 - val_accuracy: 0.0211\n",
            "Epoch 11/20\n",
            "6/6 [==============================] - 0s 25ms/step - loss: 0.3337 - accuracy: 0.8803 - val_loss: 33.0666 - val_accuracy: 0.0211\n",
            "Epoch 12/20\n",
            "6/6 [==============================] - 0s 25ms/step - loss: 0.3221 - accuracy: 0.8963 - val_loss: 34.2693 - val_accuracy: 0.0316\n",
            "Epoch 13/20\n",
            "6/6 [==============================] - 0s 26ms/step - loss: 0.4196 - accuracy: 0.8590 - val_loss: 34.1594 - val_accuracy: 0.0105\n",
            "Epoch 14/20\n",
            "6/6 [==============================] - 0s 24ms/step - loss: 0.3806 - accuracy: 0.8856 - val_loss: 34.5385 - val_accuracy: 0.0105\n",
            "Epoch 15/20\n",
            "6/6 [==============================] - 0s 26ms/step - loss: 0.2880 - accuracy: 0.9096 - val_loss: 35.0890 - val_accuracy: 0.0316\n",
            "Epoch 16/20\n",
            "6/6 [==============================] - 0s 25ms/step - loss: 0.2912 - accuracy: 0.9016 - val_loss: 35.1350 - val_accuracy: 0.0211\n",
            "Epoch 17/20\n",
            "6/6 [==============================] - 0s 25ms/step - loss: 0.2065 - accuracy: 0.9335 - val_loss: 34.6221 - val_accuracy: 0.0316\n",
            "Epoch 18/20\n",
            "6/6 [==============================] - 0s 25ms/step - loss: 0.2300 - accuracy: 0.9415 - val_loss: 36.0385 - val_accuracy: 0.0211\n",
            "Epoch 19/20\n",
            "6/6 [==============================] - 0s 25ms/step - loss: 0.2115 - accuracy: 0.9282 - val_loss: 36.3308 - val_accuracy: 0.0421\n",
            "Epoch 20/20\n",
            "6/6 [==============================] - 0s 26ms/step - loss: 0.2169 - accuracy: 0.9309 - val_loss: 35.5862 - val_accuracy: 0.0316\n"
          ],
          "name": "stdout"
        }
      ]
    },
    {
      "cell_type": "markdown",
      "metadata": {
        "id": "VaVInkv8Z7pV"
      },
      "source": [
        ""
      ]
    },
    {
      "cell_type": "code",
      "metadata": {
        "colab": {
          "base_uri": "https://localhost:8080/",
          "height": 282
        },
        "id": "fEoikl_0wFcn",
        "outputId": "55c0f460-9635-40a4-dfc6-ca708946579a"
      },
      "source": [
        "plt.plot(histoy.history['accuracy'])"
      ],
      "execution_count": null,
      "outputs": [
        {
          "output_type": "execute_result",
          "data": {
            "text/plain": [
              "[<matplotlib.lines.Line2D at 0x7f3dc2135f10>]"
            ]
          },
          "metadata": {
            "tags": []
          },
          "execution_count": 136
        },
        {
          "output_type": "display_data",
          "data": {
            "image/png": "[encoded data removed]",
            "text/plain": [
              "<Figure size 432x288 with 1 Axes>"
            ]
          },
          "metadata": {
            "tags": [],
            "needs_background": "light"
          }
        }
      ]
    },
    {
      "cell_type": "code",
      "metadata": {
        "colab": {
          "base_uri": "https://localhost:8080/"
        },
        "id": "jtYq6sidxO5h",
        "outputId": "a0574755-d0e7-44dc-e53a-6e46e536ab52"
      },
      "source": [
        "test_string=\"any broadcastr of the broadcast may be had \"\r\n",
        "x=tokeniser.texts_to_sequences([test_string])\r\n",
        "print(x)\r\n",
        "y=model.predict(x)"
      ],
      "execution_count": null,
      "outputs": [
        {
          "output_type": "stream",
          "text": [
            "[[14, 2, 1, 48, 22, 23, 59]]\n"
          ],
          "name": "stdout"
        }
      ]
    },
    {
      "cell_type": "code",
      "metadata": {
        "colab": {
          "base_uri": "https://localhost:8080/"
        },
        "id": "WWL2GrmPy7YP",
        "outputId": "b2fbfed8-c00f-4c0d-8121-9273099ccded"
      },
      "source": [
        "print(y.sum())"
      ],
      "execution_count": null,
      "outputs": [
        {
          "output_type": "stream",
          "text": [
            "0.99999994\n"
          ],
          "name": "stdout"
        }
      ]
    },
    {
      "cell_type": "code",
      "metadata": {
        "colab": {
          "base_uri": "https://localhost:8080/"
        },
        "id": "lrslPYe1zbn1",
        "outputId": "aad294a6-ce20-4e96-c109-3cad44db5548"
      },
      "source": [
        "y.argmax()"
      ],
      "execution_count": null,
      "outputs": [
        {
          "output_type": "execute_result",
          "data": {
            "text/plain": [
              "88"
            ]
          },
          "metadata": {
            "tags": []
          },
          "execution_count": 175
        }
      ]
    },
    {
      "cell_type": "code",
      "metadata": {
        "colab": {
          "base_uri": "https://localhost:8080/",
          "height": 35
        },
        "id": "G3_dPcJ_3Dp6",
        "outputId": "e1ba3036-5dd3-4925-bbeb-03b5452240cf"
      },
      "source": [
        "tokeniser.index_word[y.argmax()]"
      ],
      "execution_count": null,
      "outputs": [
        {
          "output_type": "execute_result",
          "data": {
            "application/vnd.google.colaboratory.intrinsic+json": {
              "type": "string"
            },
            "text/plain": [
              "'speculation'"
            ]
          },
          "metadata": {
            "tags": []
          },
          "execution_count": 176
        }
      ]
    },
    {
      "cell_type": "code",
      "metadata": {
        "id": "WlvMKNC13IY8"
      },
      "source": [
        ""
      ],
      "execution_count": null,
      "outputs": []
    }
  ]
}